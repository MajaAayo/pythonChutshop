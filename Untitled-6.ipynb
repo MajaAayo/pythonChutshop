{
 "cells": [
  {
   "cell_type": "code",
   "execution_count": 11,
   "metadata": {},
   "outputs": [
    {
     "name": "stdout",
     "output_type": "stream",
     "text": [
      "Hello, Laljeet\n"
     ]
    }
   ],
   "source": [
    "# Functions\n",
    "def greetings(name):\n",
    "    print(f'Hello, {name}')\n",
    "greetings('Laljeet')"
   ]
  },
  {
   "cell_type": "code",
   "execution_count": 24,
   "metadata": {},
   "outputs": [
    {
     "name": "stdout",
     "output_type": "stream",
     "text": [
      "Hello, Laljeet Karki\n"
     ]
    }
   ],
   "source": [
    "# Functions\n",
    "def greetings(name, surname=''):\n",
    "    print(f'Hello, {name} {surname}')\n",
    "greetings('Laljeet', 'Karki')"
   ]
  },
  {
   "cell_type": "code",
   "execution_count": 32,
   "metadata": {},
   "outputs": [
    {
     "data": {
      "text/plain": [
       "16000000000000000000000000000000000000000000000000000000000000000000000000000000000000000000000000000000000000"
      ]
     },
     "execution_count": 32,
     "metadata": {},
     "output_type": "execute_result"
    }
   ],
   "source": [
    "# Ending of function using return statenment\n",
    "def square(x): \n",
    "    y=x*x\n",
    "    return y\n",
    "square(4000000000000000000000000000000000000000000000000000000)"
   ]
  },
  {
   "cell_type": "code",
   "execution_count": 34,
   "metadata": {},
   "outputs": [
    {
     "name": "stdout",
     "output_type": "stream",
     "text": [
      "<class 'tuple'>\n"
     ]
    }
   ],
   "source": [
    "def sum(*num):\n",
    "    print(type(num))\n",
    "sum(2,3,4,5,6,7)"
   ]
  },
  {
   "cell_type": "code",
   "execution_count": 39,
   "metadata": {},
   "outputs": [
    {
     "name": "stdout",
     "output_type": "stream",
     "text": [
      "27\n"
     ]
    }
   ],
   "source": [
    "def add(*num):\n",
    "    sum=0\n",
    "    for i in num:\n",
    "        sum+=i\n",
    "    return sum\n",
    "   \n",
    "Total=add(2,3,4,5,6,7)\n",
    "print(Total)"
   ]
  },
  {
   "cell_type": "code",
   "execution_count": 46,
   "metadata": {},
   "outputs": [
    {
     "ename": "IndentationError",
     "evalue": "unexpected indent (1020022688.py, line 3)",
     "output_type": "error",
     "traceback": [
      "\u001b[1;36m  Cell \u001b[1;32mIn[46], line 3\u001b[1;36m\u001b[0m\n\u001b[1;33m    return contact()\u001b[0m\n\u001b[1;37m    ^\u001b[0m\n\u001b[1;31mIndentationError\u001b[0m\u001b[1;31m:\u001b[0m unexpected indent\n"
     ]
    }
   ],
   "source": []
  },
  {
   "cell_type": "code",
   "execution_count": 47,
   "metadata": {},
   "outputs": [
    {
     "name": "stdout",
     "output_type": "stream",
     "text": [
      "{'Kushal Bhandari': {'phone': '9824995555', 'email': 'kushalbhandari10@gmail.com'}, 'Maljeet Mama': {'phone': '982900000', 'email': 'maljeet40@gmail.com'}}\n"
     ]
    }
   ],
   "source": [
    "def contact(contact_dict, name, phone, email):\n",
    "    contact_dict[name] = {'phone': phone, 'email': email}\n",
    "    return contact_dict\n",
    "\n",
    "newContact = {}\n",
    "newContact = contact(newContact, 'Kushal Bhandari', '9824995555', 'kushalbhandari10@gmail.com')\n",
    "newContact = contact(newContact, 'Maljeet Mama', '982900000', 'maljeet40@gmail.com')\n",
    "\n",
    "print(newContact)\n"
   ]
  },
  {
   "cell_type": "code",
   "execution_count": 54,
   "metadata": {},
   "outputs": [
    {
     "name": "stdout",
     "output_type": "stream",
     "text": [
      "This line will not be executed\n",
      "Code is tested\n"
     ]
    }
   ],
   "source": [
    "# Exception Handling\n",
    "try: \n",
    "    div =1/0\n",
    "except ZeroDivisionError:\n",
    "    print('This line will not be executed')\n",
    "except IndentationError:\n",
    "    print('IndentationError occurs')\n",
    "else: \n",
    "    print('Code Compiled')\n",
    "finally:\n",
    "    print('Code is tested')"
   ]
  }
 ],
 "metadata": {
  "kernelspec": {
   "display_name": "Python 3",
   "language": "python",
   "name": "python3"
  },
  "language_info": {
   "codemirror_mode": {
    "name": "ipython",
    "version": 3
   },
   "file_extension": ".py",
   "mimetype": "text/x-python",
   "name": "python",
   "nbconvert_exporter": "python",
   "pygments_lexer": "ipython3",
   "version": "3.12.3"
  }
 },
 "nbformat": 4,
 "nbformat_minor": 2
}
